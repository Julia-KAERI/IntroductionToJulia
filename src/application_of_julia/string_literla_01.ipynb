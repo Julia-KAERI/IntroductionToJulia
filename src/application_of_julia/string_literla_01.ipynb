{
 "cells": [
  {
   "cell_type": "code",
   "execution_count": 30,
   "metadata": {},
   "outputs": [
    {
     "data": {
      "text/plain": [
       "@A_str (macro with 1 method)"
      ]
     },
     "metadata": {},
     "output_type": "display_data"
    }
   ],
   "source": [
    "macro A_str(s)\n",
    "    split(s)\n",
    "    filter!(!isnothing,[if tryparse(Int64, a) != nothing parse(Int64, a) else nothing end for a in split(s)])\n",
    "end"
   ]
  },
  {
   "cell_type": "code",
   "execution_count": 33,
   "metadata": {},
   "outputs": [
    {
     "data": {
      "text/plain": [
       "3-element Vector{Union{Nothing, Int64}}:\n",
       "  1\n",
       " 23\n",
       "  5"
      ]
     },
     "metadata": {},
     "output_type": "display_data"
    }
   ],
   "source": [
    "p = A\"1 23 a 3.3 5\""
   ]
  },
  {
   "cell_type": "code",
   "execution_count": 47,
   "metadata": {},
   "outputs": [
    {
     "data": {
      "text/plain": [
       "\"a 23 a 4\""
      ]
     },
     "metadata": {},
     "output_type": "display_data"
    }
   ],
   "source": [
    "ss=\"a 23 a 4\""
   ]
  },
  {
   "cell_type": "code",
   "execution_count": 72,
   "metadata": {},
   "outputs": [
    {
     "data": {
      "text/plain": [
       ":(\"raw\\\"$(ss)\")"
      ]
     },
     "metadata": {},
     "output_type": "display_data"
    }
   ],
   "source": [
    "p = :(\"raw\\\"$ss\")\n"
   ]
  },
  {
   "cell_type": "code",
   "execution_count": 83,
   "metadata": {},
   "outputs": [
    {
     "data": {
      "text/plain": [
       "2-element Vector{Union{Nothing, Int64}}:\n",
       " 23\n",
       "  4"
      ]
     },
     "metadata": {},
     "output_type": "display_data"
    }
   ],
   "source": [
    "eval(Meta.parse(\"A\\\"$ss\\\"\"))"
   ]
  },
  {
   "cell_type": "code",
   "execution_count": 88,
   "metadata": {},
   "outputs": [
    {
     "ename": "LoadError",
     "evalue": "LoadError: MethodError: no method matching split(::Symbol)\n\nClosest candidates are:\n  split(!Matched::AbstractString; limit, keepempty)\n   @ Base strings/util.jl:633\n  split(!Matched::T, !Matched::Any; limit, keepempty) where T<:AbstractString\n   @ Base strings/util.jl:626\n\nin expression starting at /Users/jiyong/Documents/Projects/IntroductionToJulia/src/application_of_julia/jl_notebook_cell_df34fa98e69747e1a8f8a730347b8e2f_W5sZmlsZQ==.jl:1",
     "output_type": "error",
     "traceback": [
      "LoadError: MethodError: no method matching split(::Symbol)\n",
      "\n",
      "Closest candidates are:\n",
      "  split(!Matched::AbstractString; limit, keepempty)\n",
      "   @ Base strings/util.jl:633\n",
      "  split(!Matched::T, !Matched::Any; limit, keepempty) where T<:AbstractString\n",
      "   @ Base strings/util.jl:626\n",
      "\n",
      "in expression starting at /Users/jiyong/Documents/Projects/IntroductionToJulia/src/application_of_julia/jl_notebook_cell_df34fa98e69747e1a8f8a730347b8e2f_W5sZmlsZQ==.jl:1\n",
      "\n",
      "Stacktrace:\n",
      "  [1] var\"@A_str\"(__source__::LineNumberNode, __module__::Module, s::Any)\n",
      "    @ Main ~/Documents/Projects/IntroductionToJulia/src/application_of_julia/jl_notebook_cell_df34fa98e69747e1a8f8a730347b8e2f_W0sZmlsZQ==.jl:2\n",
      "  [2] eval\n",
      "    @ ./boot.jl:385 [inlined]\n",
      "  [3] include_string(mapexpr::typeof(REPL.softscope), mod::Module, code::String, filename::String)\n",
      "    @ Base ./loading.jl:2076\n",
      "  [4] #invokelatest#2\n",
      "    @ ./essentials.jl:892 [inlined]\n",
      "  [5] invokelatest\n",
      "    @ ./essentials.jl:889 [inlined]\n",
      "  [6] (::VSCodeServer.var\"#217#218\"{VSCodeServer.NotebookRunCellArguments, String})()\n",
      "    @ VSCodeServer ~/.vscode/extensions/julialang.language-julia-1.124.2/scripts/packages/VSCodeServer/src/serve_notebook.jl:24\n",
      "  [7] withpath(f::VSCodeServer.var\"#217#218\"{VSCodeServer.NotebookRunCellArguments, String}, path::String)\n",
      "    @ VSCodeServer ~/.vscode/extensions/julialang.language-julia-1.124.2/scripts/packages/VSCodeServer/src/repl.jl:276\n",
      "  [8] notebook_runcell_request(conn::VSCodeServer.JSONRPC.JSONRPCEndpoint{Base.PipeEndpoint, Base.PipeEndpoint}, params::VSCodeServer.NotebookRunCellArguments)\n",
      "    @ VSCodeServer ~/.vscode/extensions/julialang.language-julia-1.124.2/scripts/packages/VSCodeServer/src/serve_notebook.jl:13\n",
      "  [9] dispatch_msg(x::VSCodeServer.JSONRPC.JSONRPCEndpoint{Base.PipeEndpoint, Base.PipeEndpoint}, dispatcher::VSCodeServer.JSONRPC.MsgDispatcher, msg::Dict{String, Any})\n",
      "    @ VSCodeServer.JSONRPC ~/.vscode/extensions/julialang.language-julia-1.124.2/scripts/packages/JSONRPC/src/typed.jl:67\n",
      " [10] serve_notebook(pipename::String, debugger_pipename::String, outputchannel_logger::Base.CoreLogging.SimpleLogger; error_handler::var\"#7#12\"{String})\n",
      "    @ VSCodeServer ~/.vscode/extensions/julialang.language-julia-1.124.2/scripts/packages/VSCodeServer/src/serve_notebook.jl:147\n",
      " [11] top-level scope\n",
      "    @ ~/.vscode/extensions/julialang.language-julia-1.124.2/scripts/notebook/notebook.jl:35"
     ]
    }
   ],
   "source": [
    "@A_str(ss)"
   ]
  },
  {
   "cell_type": "code",
   "execution_count": 73,
   "metadata": {},
   "outputs": [
    {
     "data": {
      "text/plain": [
       "\"raw\\\"a 23 a 4\""
      ]
     },
     "metadata": {},
     "output_type": "display_data"
    }
   ],
   "source": [
    "eval(p)"
   ]
  },
  {
   "cell_type": "code",
   "execution_count": null,
   "metadata": {},
   "outputs": [],
   "source": []
  }
 ],
 "metadata": {
  "kernelspec": {
   "display_name": "Julia 1.10.2",
   "language": "julia",
   "name": "julia-1.10"
  },
  "language_info": {
   "file_extension": ".jl",
   "mimetype": "application/julia",
   "name": "julia",
   "version": "1.10.2"
  }
 },
 "nbformat": 4,
 "nbformat_minor": 2
}
