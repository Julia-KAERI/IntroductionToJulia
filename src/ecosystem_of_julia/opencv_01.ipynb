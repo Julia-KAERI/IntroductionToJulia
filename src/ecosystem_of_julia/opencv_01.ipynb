{
 "cells": [
  {
   "cell_type": "code",
   "execution_count": 1,
   "metadata": {},
   "outputs": [
    {
     "name": "stderr",
     "output_type": "stream",
     "text": [
      "\u001b[32m\u001b[1m  Activating\u001b[22m\u001b[39m project at `~/development/Projects/nImageData.jl`\n"
     ]
    }
   ],
   "source": [
    "using Pkg\n",
    "Pkg.activate(\"/Users/jiyong/development/Projects/nImageData.jl\")\n",
    "using OpenCV\n",
    "using CairoMakie, Images, FileIO\n"
   ]
  },
  {
   "cell_type": "code",
   "execution_count": null,
   "metadata": {},
   "outputs": [],
   "source": [
    "img = OpenCV.imread(\"cameraman.png\", OpenCV.IMREAD_GRAYSCALE)"
   ]
  },
  {
   "cell_type": "code",
   "execution_count": null,
   "metadata": {},
   "outputs": [],
   "source": [
    "# function Mat2Array(img::OpenCV.Mat{T}) where T<:Integer\n",
    "#     return permutedims(img.data, [3,2,1])\n",
    "# end\n",
    "\n",
    "\n",
    "# function Array2Mat(img::Array{T}) where {T<:Real}\n",
    "#     ll = length(size(img))\n",
    "#     @assert ll ∈ (2, 3)\n",
    "#     if ll == 3 \n",
    "#         return OpenCV.Mat(permutedims(img, [3,2,1]))\n",
    "#     else \n",
    "#         return OpenCV.Mat(permutedims(stack([img, ]), [3,2,1]))\n",
    "#     end\n",
    "# end\n",
    "\n",
    "\n",
    "\n",
    "# \"\"\"\n",
    "#     mat2gray(mat::Matrix{<:Real}, range::Union{Nothing, Tuple{Real, Real}} )\n",
    "\n",
    "# Convert matrix to gray Image of Images.jl. \n",
    "# \"\"\"\n",
    "# function mat2gray(mat::Matrix{T}, range::Union{Nothing, Tuple{Real, Real}} = nothing ) where T<: Real\n",
    "#     if range === nothing\n",
    "#         mv, Mv = extrema(mat)\n",
    "#         return  Gray.((mat .- mv)./(Mv-mv))\n",
    "#     else \n",
    "#         mv, Mv = minmax(range...)\n",
    "#         return Gray.(clamp.((mat .-mv)/(Mv-mv), zero(T), one(T)))\n",
    "\n",
    "#     end\n",
    "# end\n",
    "\n",
    "# function mat2gray(mat::Matrix{T}, range::Union{Nothing, Tuple{Real, Real}} = nothing ) where T<: Integer\n",
    "#     return mat2gray(Float32.(mat), range)\n",
    "# end\n",
    "\n",
    "# function sand_pepper_noise(img::Matrix{T}, ratio::Real) where {T<:Integer}\n",
    "#     @assert 0<ratio<1\n",
    "#     tm, tM = typemin(T), typemax(T)\n",
    "#     w, h = size(img)\n",
    "#     Nnoise = round(Int, w*h*ratio)\n",
    "#     _x, _y = rand(1:w, Nnoise), rand(1:h, Nnoise)\n",
    "#     for i in 1:Nnoise \n",
    "#         if iseven(i)\n",
    "#             img[_y[i], _x[i]] = tm\n",
    "#         else \n",
    "#             img[_y[i], _x[i]] = tM\n",
    "#         end\n",
    "#     end\n",
    "#     return img\n",
    "# end "
   ]
  },
  {
   "cell_type": "code",
   "execution_count": null,
   "metadata": {},
   "outputs": [],
   "source": [
    "arr1=Mat2Array(img)\n",
    "arr2 = sand_pepper_noise(arr1[:,:,1], 0.03)"
   ]
  },
  {
   "cell_type": "code",
   "execution_count": null,
   "metadata": {},
   "outputs": [],
   "source": [
    "#save(\"noisy_cameraman.png\", mat2gray(arr2[:,:,1]), )\n",
    "mat2gray(arr2[:,:,1])"
   ]
  },
  {
   "cell_type": "code",
   "execution_count": null,
   "metadata": {},
   "outputs": [],
   "source": [
    "size(Array2Mat(arr2))"
   ]
  },
  {
   "cell_type": "code",
   "execution_count": null,
   "metadata": {},
   "outputs": [],
   "source": [
    "img3 = OpenCV.medianBlur(Array2Mat(arr2), 5)"
   ]
  },
  {
   "cell_type": "code",
   "execution_count": null,
   "metadata": {},
   "outputs": [],
   "source": [
    "println(size(img3))\n",
    "mat2gray(Mat2Array(img3)[:,:,1])"
   ]
  },
  {
   "cell_type": "code",
   "execution_count": null,
   "metadata": {},
   "outputs": [],
   "source": [
    "size(Array2Mat(stack([arr2,])))"
   ]
  },
  {
   "cell_type": "code",
   "execution_count": null,
   "metadata": {},
   "outputs": [],
   "source": [
    "x4=OpenCV.medianBlur(Array2Mat(stack([arr2,])),3)[1,:,:]"
   ]
  },
  {
   "cell_type": "code",
   "execution_count": null,
   "metadata": {},
   "outputs": [],
   "source": [
    "mat2gray(x4)"
   ]
  },
  {
   "cell_type": "code",
   "execution_count": null,
   "metadata": {},
   "outputs": [],
   "source": [
    "x4 = OpenCV.medianBlur(Array2Mat())"
   ]
  },
  {
   "cell_type": "code",
   "execution_count": null,
   "metadata": {},
   "outputs": [],
   "source": [
    "b=permutedims(a, [3,2,1])"
   ]
  },
  {
   "cell_type": "code",
   "execution_count": null,
   "metadata": {},
   "outputs": [],
   "source": [
    "permutedims(b, [3,2,1])"
   ]
  },
  {
   "cell_type": "code",
   "execution_count": null,
   "metadata": {},
   "outputs": [],
   "source": [
    "rand(1:100, (3, 4))"
   ]
  },
  {
   "cell_type": "code",
   "execution_count": null,
   "metadata": {},
   "outputs": [],
   "source": []
  }
 ],
 "metadata": {
  "kernelspec": {
   "display_name": "Julia 1.10.2",
   "language": "julia",
   "name": "julia-1.10"
  },
  "language_info": {
   "file_extension": ".jl",
   "mimetype": "application/julia",
   "name": "julia",
   "version": "1.10.2"
  }
 },
 "nbformat": 4,
 "nbformat_minor": 2
}
