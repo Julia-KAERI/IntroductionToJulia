{
 "cells": [
  {
   "cell_type": "code",
   "execution_count": 6,
   "metadata": {},
   "outputs": [],
   "source": [
    "using BenchmarkTools, StaticArrays, LinearAlgebra"
   ]
  },
  {
   "cell_type": "code",
   "execution_count": 24,
   "metadata": {},
   "outputs": [],
   "source": [
    "A = rand(7, 7)\n",
    "B = SMatrix{7, 7}(A);"
   ]
  },
  {
   "cell_type": "code",
   "execution_count": 32,
   "metadata": {},
   "outputs": [
    {
     "name": "stdout",
     "output_type": "stream",
     "text": [
      "  979.167 ns (8 allocations: 4.19 KiB)\n",
      "  388.264 ns (1 allocation: 400 bytes)\n"
     ]
    },
    {
     "data": {
      "text/plain": [
       "7×7 SMatrix{7, 7, Float64, 49} with indices SOneTo(7)×SOneTo(7):\n",
       "  0.235199  -3.09555     5.68592    …  -3.29009    -0.181692  -1.3493\n",
       "  0.191677  -0.247511   -0.225837       1.08336    -0.531278   0.50763\n",
       " -0.317324  -2.58983     9.55294       -5.26092    -2.07201   -3.65397\n",
       " -0.882315   1.66107    -4.12158        2.62308     1.19137    2.5162\n",
       "  0.554715  -1.39467     1.9912        -0.702875   -0.609882  -2.84823\n",
       "  0.440958  -0.016649    0.0531497  …  -0.0400529   0.58262   -0.870545\n",
       "  0.451084   4.68122   -11.3735         5.33155     1.62381    4.70843"
      ]
     },
     "metadata": {},
     "output_type": "display_data"
    }
   ],
   "source": [
    "@btime inv(A)\n",
    "@btime inv(B)"
   ]
  },
  {
   "cell_type": "code",
   "execution_count": 31,
   "metadata": {},
   "outputs": [
    {
     "data": {
      "text/plain": [
       "2.5467106699369486"
      ]
     },
     "metadata": {},
     "output_type": "display_data"
    }
   ],
   "source": [
    "991.6/389.365"
   ]
  },
  {
   "cell_type": "code",
   "execution_count": null,
   "metadata": {},
   "outputs": [],
   "source": []
  }
 ],
 "metadata": {
  "kernelspec": {
   "display_name": "Julia 1.11.1",
   "language": "julia",
   "name": "julia-1.11"
  },
  "language_info": {
   "file_extension": ".jl",
   "mimetype": "application/julia",
   "name": "julia",
   "version": "1.11.1"
  }
 },
 "nbformat": 4,
 "nbformat_minor": 2
}
