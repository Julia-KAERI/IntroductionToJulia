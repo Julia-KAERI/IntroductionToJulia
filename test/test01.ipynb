{
 "cells": [
  {
   "cell_type": "code",
   "execution_count": 1,
   "metadata": {},
   "outputs": [],
   "source": [
    "using BenchmarkTools, StaticArrays, LinearAlgebra"
   ]
  },
  {
   "cell_type": "code",
   "execution_count": 2,
   "metadata": {},
   "outputs": [],
   "source": [
    "A = rand(7, 7)\n",
    "B = SMatrix{7, 7}(A);"
   ]
  },
  {
   "cell_type": "code",
   "execution_count": 3,
   "metadata": {},
   "outputs": [
    {
     "name": "stdout",
     "output_type": "stream",
     "text": [
      "  1.269 μs (4 allocations: 4.17 KiB)\n",
      "  495.357 ns (1 allocation: 400 bytes)\n"
     ]
    },
    {
     "data": {
      "text/plain": [
       "7×7 SMatrix{7, 7, Float64, 49} with indices SOneTo(7)×SOneTo(7):\n",
       " -1.85959  -2.80359   -0.400056   0.375129    4.42414  -0.00362249   0.884385\n",
       "  1.62094   2.14793   -0.514543  -0.522248   -4.35027   2.81313     -1.40824\n",
       " -1.91023  -0.960714   1.38015    0.368636    2.54625  -2.12893      1.16339\n",
       "  4.84542   4.85396   -2.25796   -2.29982    -7.63666   4.16744     -1.96871\n",
       " -6.87182  -5.91524    3.19139    4.34264    12.4996   -8.11408      2.17435\n",
       " -1.89292  -2.74148    1.80179    1.17955     4.79336  -3.28688      0.824038\n",
       "  6.69835   5.62348   -2.73091   -3.14729   -12.2944    6.42769     -1.28005"
      ]
     },
     "metadata": {},
     "output_type": "display_data"
    }
   ],
   "source": [
    "@btime inv(A)\n",
    "@btime inv(B)"
   ]
  },
  {
   "cell_type": "code",
   "execution_count": 31,
   "metadata": {},
   "outputs": [
    {
     "data": {
      "text/plain": [
       "2.5467106699369486"
      ]
     },
     "metadata": {},
     "output_type": "display_data"
    }
   ],
   "source": [
    "991.6/389.365"
   ]
  },
  {
   "cell_type": "code",
   "execution_count": 4,
   "metadata": {},
   "outputs": [
    {
     "data": {
      "text/plain": [
       "array3 (generic function with 1 method)"
      ]
     },
     "metadata": {},
     "output_type": "display_data"
    }
   ],
   "source": [
    "function array3(fillval, N)\n",
    "    fill(fillval, ntuple(d->3, N))\n",
    "end"
   ]
  },
  {
   "cell_type": "code",
   "execution_count": 5,
   "metadata": {},
   "outputs": [
    {
     "name": "stdout",
     "output_type": "stream",
     "text": [
      "MethodInstance for array3(::Float64, ::Int64)\n",
      "  from array3(\u001b[90mfillval\u001b[39m, \u001b[90mN\u001b[39m)\u001b[90m @\u001b[39m \u001b[90mMain\u001b[39m \u001b[90m~/Documents/Projects/IntroductionToJulia/test/\u001b[39m\u001b[90m\u001b[4mjl_notebook_cell_df34fa98e69747e1a8f8a730347b8e2f_W4sZmlsZQ==.jl:1\u001b[24m\u001b[39m\n",
      "Arguments\n",
      "  #self#\u001b[36m::Core.Const(array3)\u001b[39m\n",
      "  fillval\u001b[36m::Float64\u001b[39m\n",
      "  N\u001b[36m::Int64\u001b[39m\n",
      "Locals\n",
      "  #13\u001b[36m::var\"#13#14\"\u001b[39m\n",
      "Body\u001b[91m\u001b[1m::Any\u001b[22m\u001b[39m\n",
      "\u001b[90m1 ─\u001b[39m      (#13 = %new(Main.:(var\"#13#14\")))\n",
      "\u001b[90m│  \u001b[39m %2 = #13\u001b[36m::Core.Const(var\"#13#14\"())\u001b[39m\n",
      "\u001b[90m│  \u001b[39m %3 = Main.ntuple(%2, N)\u001b[91m\u001b[1m::Tuple{Vararg{Int64}}\u001b[22m\u001b[39m\n",
      "\u001b[90m│  \u001b[39m %4 = Main.fill(fillval, %3)\u001b[91m\u001b[1m::Any\u001b[22m\u001b[39m\n",
      "\u001b[90m└──\u001b[39m      return %4\n",
      "\n"
     ]
    }
   ],
   "source": [
    "@code_warntype array3(5.0, 2)"
   ]
  },
  {
   "cell_type": "code",
   "execution_count": 6,
   "metadata": {},
   "outputs": [],
   "source": [
    "x = rand(1000, 1000);\n",
    "d = sum(abs2, x; dims=2);"
   ]
  },
  {
   "cell_type": "code",
   "execution_count": 18,
   "metadata": {},
   "outputs": [
    {
     "name": "stdout",
     "output_type": "stream",
     "text": [
      "  0.002613 seconds (2 allocations: 48 bytes)\n"
     ]
    }
   ],
   "source": [
    "@time x ./= sqrt.(d);"
   ]
  },
  {
   "cell_type": "code",
   "execution_count": 12,
   "metadata": {},
   "outputs": [
    {
     "name": "stdout",
     "output_type": "stream",
     "text": [
      "  0.001221 seconds (3 allocations: 7.984 KiB)\n"
     ]
    }
   ],
   "source": [
    "@time let s = sqrt.(d); x ./= s end;"
   ]
  },
  {
   "cell_type": "code",
   "execution_count": 14,
   "metadata": {},
   "outputs": [
    {
     "name": "stdout",
     "output_type": "stream",
     "text": [
      "  0.001169 seconds (3 allocations: 7.984 KiB)\n"
     ]
    }
   ],
   "source": [
    "@time x ./= identity(sqrt.(d));"
   ]
  },
  {
   "cell_type": "code",
   "execution_count": 16,
   "metadata": {},
   "outputs": [
    {
     "name": "stdout",
     "output_type": "stream",
     "text": [
      "  0.001134 seconds (3 allocations: 7.984 KiB)\n"
     ]
    }
   ],
   "source": [
    "@time x ./= map(sqrt, d);"
   ]
  },
  {
   "cell_type": "code",
   "execution_count": 19,
   "metadata": {},
   "outputs": [
    {
     "name": "stdout",
     "output_type": "stream",
     "text": [
      "  0.000247 seconds (1 allocation: 4.062 KiB)\n",
      "  0.000114 seconds (1 allocation: 4.062 KiB)\n",
      "  0.000229 seconds (1 allocation: 4.062 KiB)\n",
      "  0.000115 seconds (1 allocation: 4.062 KiB)\n",
      "  0.000244 seconds (1 allocation: 4.062 KiB)\n",
      "  0.000123 seconds (1 allocation: 4.062 KiB)\n"
     ]
    }
   ],
   "source": [
    "function timestep(b::Vector{T}, a::Vector{T}, Δt::T) where T\n",
    "    @assert length(a)==length(b)\n",
    "    n = length(b)\n",
    "    b[1] = 1                            # Boundary condition\n",
    "    for i=2:n-1\n",
    "        b[i] = a[i] + (a[i-1] - T(2)*a[i] + a[i+1]) * Δt\n",
    "    end\n",
    "    b[n] = 0                            # Boundary condition\n",
    "end\n",
    "\n",
    "function heatflow(a::Vector{T}, nstep::Integer) where T\n",
    "    b = similar(a)\n",
    "    for t=1:div(nstep,2)                # Assume nstep is even\n",
    "        timestep(b,a,T(0.1))\n",
    "        timestep(a,b,T(0.1))\n",
    "    end\n",
    "end\n",
    "\n",
    "heatflow(zeros(Float32,10),2)           # Force compilation\n",
    "for trial=1:6\n",
    "    a = zeros(Float32,1000)\n",
    "    set_zero_subnormals(iseven(trial))  # Odd trials use strict IEEE arithmetic\n",
    "    @time heatflow(a,1000)\n",
    "end"
   ]
  },
  {
   "cell_type": "code",
   "execution_count": null,
   "metadata": {},
   "outputs": [],
   "source": []
  }
 ],
 "metadata": {
  "kernelspec": {
   "display_name": "Julia 1.10.2",
   "language": "julia",
   "name": "julia-1.10"
  },
  "language_info": {
   "file_extension": ".jl",
   "mimetype": "application/julia",
   "name": "julia",
   "version": "1.10.2"
  }
 },
 "nbformat": 4,
 "nbformat_minor": 2
}
